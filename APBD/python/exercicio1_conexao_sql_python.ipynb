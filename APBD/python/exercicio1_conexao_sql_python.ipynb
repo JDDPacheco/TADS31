{
 "cells": [
  {
   "cell_type": "code",
   "execution_count": 2,
   "id": "f0d8265c-6aef-4f02-ad28-cd91f5e97995",
   "metadata": {},
   "outputs": [],
   "source": [
    "## Conexão MySQL a partir do Python"
   ]
  },
  {
   "cell_type": "code",
   "execution_count": 3,
   "id": "3da38c00-5238-4158-9728-dc0a35c5e6ca",
   "metadata": {},
   "outputs": [],
   "source": [
    "import pymysql"
   ]
  },
  {
   "cell_type": "code",
   "execution_count": 6,
   "id": "70dfacc9-6a59-4e89-9276-4a440fe107b7",
   "metadata": {},
   "outputs": [
    {
     "name": "stdin",
     "output_type": "stream",
     "text": [
      "Entre com a senha:  root\n"
     ]
    }
   ],
   "source": [
    "senha = input('Entre com a senha: ')"
   ]
  },
  {
   "cell_type": "code",
   "execution_count": 7,
   "id": "761e5457-bf9b-4d95-938f-0cf953612405",
   "metadata": {},
   "outputs": [],
   "source": [
    "conexao = pymysql.connect(\n",
    "    host='localhost',\n",
    "    user='root',\n",
    "    password=senha,\n",
    "    database='bd2024'\n",
    ")"
   ]
  },
  {
   "cell_type": "code",
   "execution_count": 8,
   "id": "ecb2f9f9-f557-4993-9a86-c24983680aba",
   "metadata": {},
   "outputs": [],
   "source": [
    "cursor = conexao.cursor()"
   ]
  },
  {
   "cell_type": "code",
   "execution_count": 10,
   "id": "2f7ed74a-5a9e-43b0-8984-624b9df4f709",
   "metadata": {},
   "outputs": [
    {
     "name": "stdin",
     "output_type": "stream",
     "text": [
      "Informe o sexo:  f\n",
      "Informe o bairro:  cachoeirinha\n"
     ]
    }
   ],
   "source": [
    "sexo = input('Informe o sexo: ')\n",
    "bairro = input('Informe o bairro: ')"
   ]
  },
  {
   "cell_type": "code",
   "execution_count": 11,
   "id": "27776378-fdb5-41e8-a4da-06ec16a152c7",
   "metadata": {},
   "outputs": [
    {
     "data": {
      "text/plain": [
       "['f', 'cachoeirinha']"
      ]
     },
     "execution_count": 11,
     "metadata": {},
     "output_type": "execute_result"
    }
   ],
   "source": [
    "cursor.callproc('sp_lista_cliente_sexo_bairro',[sexo,bairro])"
   ]
  },
  {
   "cell_type": "code",
   "execution_count": 14,
   "id": "3729d7a8-5437-4472-acd6-5cb51f979ac2",
   "metadata": {},
   "outputs": [
    {
     "name": "stdout",
     "output_type": "stream",
     "text": [
      "(342, 'ANA PINTO MARINHO', 'F', 2337.5, 'Divorciado', 'CACHOEIRINHA')\n",
      "(243, 'FRANSOEILA RICARDO SOUZA', 'F', 1207.0, 'Solteiro', 'CACHOEIRINHA')\n",
      "(210, 'JACILENE LEAL DE CASTRO', 'F', 2286.5, 'Casado', 'CACHOEIRINHA')\n",
      "(36, 'JESSICA GRANA NUNES', 'F', 2286.5, 'Solteiro', 'CACHOEIRINHA')\n",
      "(309, 'LIA LIMA GOMES', 'F', 1700.0, 'Solteiro', 'CACHOEIRINHA')\n",
      "(485, 'LUCILA DA SILVA COSTA', 'F', 1700.0, 'Divorciado', 'CACHOEIRINHA')\n",
      "(298, 'MACIANA DE CASTRO RIBEIRO', 'F', 1962.31, 'Solteiro', 'CACHOEIRINHA')\n",
      "(397, 'MARGARETH PEREIRA DE SOUZA', 'F', 1962.31, 'Solteiro', 'CACHOEIRINHA')\n",
      "(199, 'MARIA COSTA DA SILVA', 'F', 1962.31, 'Solteiro', 'CACHOEIRINHA')\n",
      "(441, 'RAQUELLY DE SOUZA ROLIM', 'F', 1560.6, 'Solteiro', 'CACHOEIRINHA')\n",
      "(331, 'STHEFANY FEITOSA DE SOUZA', 'F', 1275.0, 'Solteiro', 'CACHOEIRINHA')\n",
      "(496, 'TABITA DE SOUZA ARAUJO', 'F', 1360.0, 'Divorciado', 'CACHOEIRINHA')\n",
      "(353, 'VERA LUCIA COSTA DA SILVA', 'F', 2278.0, 'Solteiro', 'CACHOEIRINHA')\n",
      "(375, 'WILLIANA ARAUJO DA SILVA', 'F', 1360.0, 'Divorciado', 'CACHOEIRINHA')\n"
     ]
    }
   ],
   "source": [
    "for linha in cursor.fetchall():\n",
    "    print(linha)"
   ]
  },
  {
   "cell_type": "code",
   "execution_count": 15,
   "id": "510e92d4-5c82-4c03-bfcb-39142c052e5d",
   "metadata": {},
   "outputs": [],
   "source": [
    "cursor.close()\n",
    "conexao.close()"
   ]
  },
  {
   "cell_type": "code",
   "execution_count": null,
   "id": "a04063c9-6a83-4038-8e89-9eb421f1b5a9",
   "metadata": {},
   "outputs": [],
   "source": []
  }
 ],
 "metadata": {
  "kernelspec": {
   "display_name": "Python 3 (ipykernel)",
   "language": "python",
   "name": "python3"
  },
  "language_info": {
   "codemirror_mode": {
    "name": "ipython",
    "version": 3
   },
   "file_extension": ".py",
   "mimetype": "text/x-python",
   "name": "python",
   "nbconvert_exporter": "python",
   "pygments_lexer": "ipython3",
   "version": "3.10.14"
  }
 },
 "nbformat": 4,
 "nbformat_minor": 5
}
